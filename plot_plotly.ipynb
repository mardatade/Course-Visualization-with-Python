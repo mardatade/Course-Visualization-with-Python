{
 "cells": [
  {
   "cell_type": "markdown",
   "metadata": {},
   "source": [
    "# Plotly\n",
    "\n",
    "Examples: https://plotly.com/python/"
   ]
  },
  {
   "cell_type": "code",
   "execution_count": 1,
   "metadata": {},
   "outputs": [],
   "source": [
    "# Imports\n",
    "from example_data import sample_frame, x_values, sample_a, sample_b, sample_c\n",
    "\n",
    "import plotly.graph_objects as go\n",
    "import plotly.offline as po"
   ]
  },
  {
   "cell_type": "code",
   "execution_count": null,
   "metadata": {},
   "outputs": [],
   "source": [
    "# Quick'n'Dirty\n",
    "import plotly.express as px\n",
    "fig = px.scatter(sample_frame, x='x', y=['c', 'b', 'c'])\n",
    "fig.show()"
   ]
  },
  {
   "cell_type": "code",
   "execution_count": null,
   "metadata": {},
   "outputs": [],
   "source": [
    "# Preparation\n",
    "# todo: supress output\n",
    "figure_handle = go.Figure()\n",
    "figure_handle.update_layout(title='Demo Plot', xaxis_title='X Axis', yaxis_title='Y Axis')"
   ]
  },
  {
   "cell_type": "code",
   "execution_count": 4,
   "metadata": {},
   "outputs": [],
   "source": [
    "# Create Plots\n",
    "# todo: color, label\n",
    "scatter_a = go.Scatter(x=x_values, y=sample_a, mode='markers', name='a')\n",
    "scatter_b = go.Scatter(x=x_values, y=sample_b, mode='markers', name='b')\n",
    "scatter_c = go.Scatter(x=x_values, y=sample_c, mode='markers', name='c')\n",
    "line_1to1 = go.Scatter(x=[0, 100], y=[0, 100], mode='lines', name='1to1')"
   ]
  },
  {
   "cell_type": "code",
   "execution_count": null,
   "metadata": {},
   "outputs": [],
   "source": [
    "# Combine and Visualize\n",
    "figure_handle.add_trace(scatter_a)\n",
    "figure_handle.add_trace(scatter_b)\n",
    "figure_handle.add_trace(scatter_c)\n",
    "figure_handle.add_trace(line_1to1)\n",
    "# figure_handle.show(renderer=\"browser\")  # browser needed\n",
    "display(figure_handle)"
   ]
  },
  {
   "cell_type": "code",
   "execution_count": 6,
   "metadata": {},
   "outputs": [
    {
     "data": {
      "text/plain": [
       "'Plots/plotly.html'"
      ]
     },
     "execution_count": 6,
     "metadata": {},
     "output_type": "execute_result"
    }
   ],
   "source": [
    "# Save interactive\n",
    "po.plot(figure_handle, filename='Plots/plotly.html', auto_open=False)"
   ]
  },
  {
   "cell_type": "code",
   "execution_count": null,
   "metadata": {},
   "outputs": [],
   "source": [
    "# Save static\n",
    "# ToDo: Fix\n",
    "figure_handle.write_image('Plots/plotly.png')"
   ]
  }
 ],
 "metadata": {
  "kernelspec": {
   "display_name": "Python 3",
   "language": "python",
   "name": "python3"
  },
  "language_info": {
   "codemirror_mode": {
    "name": "ipython",
    "version": 3
   },
   "file_extension": ".py",
   "mimetype": "text/x-python",
   "name": "python",
   "nbconvert_exporter": "python",
   "pygments_lexer": "ipython3",
   "version": "3.7.9"
  }
 },
 "nbformat": 4,
 "nbformat_minor": 4
}
