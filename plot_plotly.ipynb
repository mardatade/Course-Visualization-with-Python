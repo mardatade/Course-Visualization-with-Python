{
 "cells": [
  {
   "cell_type": "markdown",
   "metadata": {},
   "source": [
    "# Plotly\n",
    "\n",
    "Examples: https://plotly.com/python/"
   ]
  },
  {
   "cell_type": "code",
   "execution_count": 1,
   "metadata": {},
   "outputs": [],
   "source": [
    "# Imports\n",
    "from example_data import sample_frame, x_values, sample_a, sample_b, sample_c\n",
    "\n",
    "import plotly.graph_objects as go\n",
    "import plotly.offline as po\n",
    "\n",
    "from plotly.subplots import make_subplots  # for Layout"
   ]
  },
  {
   "cell_type": "code",
   "execution_count": null,
   "metadata": {},
   "outputs": [],
   "source": [
    "# Quick'n'Dirty\n",
    "import plotly.express as px\n",
    "fig = px.scatter(sample_frame, x='x', y=['c', 'b', 'c'])\n",
    "display(fig)\n",
    "fig = px.scatter(sample_frame, x='a', y='b',color='c')\n",
    "display(fig)"
   ]
  },
  {
   "cell_type": "code",
   "execution_count": null,
   "metadata": {},
   "outputs": [],
   "source": [
    "# Preparation\n",
    "# todo: supress output\n",
    "figure_handle = go.Figure()\n",
    "figure_handle.update_layout(title='Demo Plot', xaxis_title='X Axis', yaxis_title='Y Axis')"
   ]
  },
  {
   "cell_type": "code",
   "execution_count": 4,
   "metadata": {},
   "outputs": [],
   "source": [
    "# Create Plots\n",
    "# todo: color, label\n",
    "scatter_a = go.Scatter(x=x_values, y=sample_a, mode='markers', name='a')\n",
    "scatter_b = go.Scatter(x=x_values, y=sample_b, mode='markers', name='b')\n",
    "scatter_c = go.Scatter(x=x_values, y=sample_c, mode='markers', name='c')\n",
    "line_1to1 = go.Scatter(x=[0, 100], y=[0, 100], mode='lines', name='1to1')"
   ]
  },
  {
   "cell_type": "code",
   "execution_count": null,
   "metadata": {},
   "outputs": [],
   "source": [
    "# Combine and Visualize\n",
    "figure_handle.add_trace(scatter_a)\n",
    "figure_handle.add_trace(scatter_b)\n",
    "figure_handle.add_trace(scatter_c)\n",
    "figure_handle.add_trace(line_1to1)\n",
    "# figure_handle.show(renderer=\"browser\")  # browser needed\n",
    "display(figure_handle)"
   ]
  },
  {
   "cell_type": "code",
   "execution_count": null,
   "metadata": {},
   "outputs": [],
   "source": [
    "# Create Layout\n",
    "figure_handle2 = make_subplots(rows=1, cols=2)\n",
    "figure_handle2.add_trace(go.Scatter(x=x_values, y=sample_a, mode='markers', name='a'), row=1, col=1)\n",
    "figure_handle2.add_trace(go.Scatter(x=sample_a, y=sample_b, mode='markers', marker=dict(color=sample_c)), row=1, col=2)\n",
    "figure_handle2.show()"
   ]
  },
  {
   "cell_type": "code",
   "execution_count": 7,
   "metadata": {},
   "outputs": [
    {
     "data": {
      "text/plain": [
       "'Plots/plotly.html'"
      ]
     },
     "execution_count": 7,
     "metadata": {},
     "output_type": "execute_result"
    }
   ],
   "source": [
    "# Save interactive\n",
    "po.plot(figure_handle, filename='Plots/plotly.html', auto_open=True)\n",
    "po.plot(figure_handle2, filename='Plots/plotly2.html', auto_open=True)"
   ]
  },
  {
   "cell_type": "code",
   "execution_count": 8,
   "metadata": {},
   "outputs": [
    {
     "ename": "ValueError",
     "evalue": "\nThe orca executable is required to export figures as static images,\nbut it could not be found on the system path.\n\nSearched for executable 'orca' on the following path:\n    C:\\Users\\Martin\\Anaconda3\\envs\\CondaPy37plots\n    C:\\Users\\Martin\\Anaconda3\\envs\\CondaPy37plots\\Library\\mingw-w64\\bin\n    C:\\Users\\Martin\\Anaconda3\\envs\\CondaPy37plots\\Library\\usr\\bin\n    C:\\Users\\Martin\\Anaconda3\\envs\\CondaPy37plots\\Library\\bin\n    C:\\Users\\Martin\\Anaconda3\\envs\\CondaPy37plots\\Scripts\n    C:\\Users\\Martin\\Anaconda3\\envs\\CondaPy37plots\\bin\n    C:\\Users\\Martin\\Anaconda3\\condabin\n    C:\\Users\\Martin\\Anaconda3\n    C:\\Users\\Martin\\Anaconda3\\Library\\mingw-w64\\bin\n    C:\\Users\\Martin\\Anaconda3\\Library\\usr\\bin\n    C:\\Users\\Martin\\Anaconda3\\Library\\bin\n    C:\\Users\\Martin\\Anaconda3\\Scripts\n    C:\\Program Files\\WindowsApps\\PythonSoftwareFoundation.Python.3.7_3.7.2544.0_x64__qbz5n2kfra8p0\n    C:\\Rtools\\bin\n    C:\\Program Files (x86)\\Common Files\\Oracle\\Java\\javapath\n    C:\\ProgramData\\Oracle\\Java\\javapath\n    C:\\watcom-1.3\\binnt\n    C:\\watcom-1.3\\binw\n    C:\\Program Files (x86)\\Intel\\iCLS Client\n    C:\\Program Files\\Intel\\iCLS Client\n    C:\\WINDOWS\\system32\n    C:\\WINDOWS\n    C:\\WINDOWS\\System32\\Wbem\n    C:\\WINDOWS\\System32\\WindowsPowerShell\\v1.0\n    C:\\Program Files\\Intel\\Intel(R) Management Engine Components\\DAL\n    C:\\Program Files\\Intel\\Intel(R) Management Engine Components\\IPT\n    C:\\Program Files (x86)\\Intel\\Intel(R) Management Engine Components\\DAL\n    C:\\Program Files (x86)\\Intel\\Intel(R) Management Engine Components\\IPT\n    C:\\Program Files\\MATLAB\\R2009b\\runtime\\win64\n    C:\\Program Files\\MATLAB\\R2009b\\bin\n    C:\\Program Files\\Microsoft SQL Server\\110\\Tools\\Binn\n    C:\\Program Files (x86)\\Microsoft SDKs\\TypeScript\\1.0\n    C:\\Program Files\\Microsoft SQL Server\\120\\Tools\\Binn\n    C:\\Program Files (x86)\\NVIDIA Corporation\\PhysX\\Common\n    C:\\WINDOWS\\system32\n    C:\\WINDOWS\n    C:\\WINDOWS\\System32\\Wbem\n    C:\\WINDOWS\\System32\\WindowsPowerShell\\v1.0\n    C:\\WINDOWS\\System32\\OpenSSH\n    C:\\Program Files\\PuTTY\n    C:\\Program Files\\MiKTeX 2.9\\miktex\\bin\\x64\n    C:\\Program Files\\TortoiseGit\\bin\n    C:\\Program Files\\JetBrains\\PyCharm Community Edition 2019.1.1\\bin\n    .\n    C:\\Program Files\\Microsoft VS Code\\bin\n    C:\\Users\\Martin\\AppData\\Local\\Microsoft\\WindowsApps\n    .\n    .\n\nIf you haven't installed orca yet, you can do so using conda as follows:\n\n    $ conda install -c plotly plotly-orca\n\nAlternatively, see other installation methods in the orca project README at\nhttps://github.com/plotly/orca\n\nAfter installation is complete, no further configuration should be needed.\n\nIf you have installed orca, then for some reason plotly.py was unable to\nlocate it. In this case, set the `plotly.io.orca.config.executable`\nproperty to the full path of your orca executable. For example:\n\n    >>> plotly.io.orca.config.executable = '/path/to/orca'\n\nAfter updating this executable property, try the export operation again.\nIf it is successful then you may want to save this configuration so that it\nwill be applied automatically in future sessions. You can do this as follows:\n\n    >>> plotly.io.orca.config.save()\n\nIf you're still having trouble, feel free to ask for help on the forums at\nhttps://community.plot.ly/c/api/python\n",
     "output_type": "error",
     "traceback": [
      "\u001b[1;31m---------------------------------------------------------------------------\u001b[0m",
      "\u001b[1;31mValueError\u001b[0m                                Traceback (most recent call last)",
      "\u001b[1;32m<ipython-input-8-a2c2c521838b>\u001b[0m in \u001b[0;36m<module>\u001b[1;34m\u001b[0m\n\u001b[0;32m      1\u001b[0m \u001b[1;31m# Save static\u001b[0m\u001b[1;33m\u001b[0m\u001b[1;33m\u001b[0m\u001b[1;33m\u001b[0m\u001b[0m\n\u001b[0;32m      2\u001b[0m \u001b[1;31m# ToDo: Fix\u001b[0m\u001b[1;33m\u001b[0m\u001b[1;33m\u001b[0m\u001b[1;33m\u001b[0m\u001b[0m\n\u001b[1;32m----> 3\u001b[1;33m \u001b[0mfigure_handle\u001b[0m\u001b[1;33m.\u001b[0m\u001b[0mwrite_image\u001b[0m\u001b[1;33m(\u001b[0m\u001b[1;34m'Plots/plotly.png'\u001b[0m\u001b[1;33m)\u001b[0m\u001b[1;33m\u001b[0m\u001b[1;33m\u001b[0m\u001b[0m\n\u001b[0m",
      "\u001b[1;32m~\\Anaconda3\\envs\\CondaPy37plots\\lib\\site-packages\\plotly\\basedatatypes.py\u001b[0m in \u001b[0;36mwrite_image\u001b[1;34m(self, *args, **kwargs)\u001b[0m\n\u001b[0;32m   3278\u001b[0m         \u001b[1;32mimport\u001b[0m \u001b[0mplotly\u001b[0m\u001b[1;33m.\u001b[0m\u001b[0mio\u001b[0m \u001b[1;32mas\u001b[0m \u001b[0mpio\u001b[0m\u001b[1;33m\u001b[0m\u001b[1;33m\u001b[0m\u001b[0m\n\u001b[0;32m   3279\u001b[0m \u001b[1;33m\u001b[0m\u001b[0m\n\u001b[1;32m-> 3280\u001b[1;33m         \u001b[1;32mreturn\u001b[0m \u001b[0mpio\u001b[0m\u001b[1;33m.\u001b[0m\u001b[0mwrite_image\u001b[0m\u001b[1;33m(\u001b[0m\u001b[0mself\u001b[0m\u001b[1;33m,\u001b[0m \u001b[1;33m*\u001b[0m\u001b[0margs\u001b[0m\u001b[1;33m,\u001b[0m \u001b[1;33m**\u001b[0m\u001b[0mkwargs\u001b[0m\u001b[1;33m)\u001b[0m\u001b[1;33m\u001b[0m\u001b[1;33m\u001b[0m\u001b[0m\n\u001b[0m\u001b[0;32m   3281\u001b[0m \u001b[1;33m\u001b[0m\u001b[0m\n\u001b[0;32m   3282\u001b[0m     \u001b[1;31m# Static helpers\u001b[0m\u001b[1;33m\u001b[0m\u001b[1;33m\u001b[0m\u001b[1;33m\u001b[0m\u001b[0m\n",
      "\u001b[1;32m~\\Anaconda3\\envs\\CondaPy37plots\\lib\\site-packages\\plotly\\io\\_kaleido.py\u001b[0m in \u001b[0;36mwrite_image\u001b[1;34m(fig, file, format, scale, width, height, validate, engine)\u001b[0m\n\u001b[0;32m    250\u001b[0m         \u001b[0mheight\u001b[0m\u001b[1;33m=\u001b[0m\u001b[0mheight\u001b[0m\u001b[1;33m,\u001b[0m\u001b[1;33m\u001b[0m\u001b[1;33m\u001b[0m\u001b[0m\n\u001b[0;32m    251\u001b[0m         \u001b[0mvalidate\u001b[0m\u001b[1;33m=\u001b[0m\u001b[0mvalidate\u001b[0m\u001b[1;33m,\u001b[0m\u001b[1;33m\u001b[0m\u001b[1;33m\u001b[0m\u001b[0m\n\u001b[1;32m--> 252\u001b[1;33m         \u001b[0mengine\u001b[0m\u001b[1;33m=\u001b[0m\u001b[0mengine\u001b[0m\u001b[1;33m,\u001b[0m\u001b[1;33m\u001b[0m\u001b[1;33m\u001b[0m\u001b[0m\n\u001b[0m\u001b[0;32m    253\u001b[0m     )\n\u001b[0;32m    254\u001b[0m \u001b[1;33m\u001b[0m\u001b[0m\n",
      "\u001b[1;32m~\\Anaconda3\\envs\\CondaPy37plots\\lib\\site-packages\\plotly\\io\\_kaleido.py\u001b[0m in \u001b[0;36mto_image\u001b[1;34m(fig, format, width, height, scale, validate, engine)\u001b[0m\n\u001b[0;32m    107\u001b[0m             \u001b[0mheight\u001b[0m\u001b[1;33m=\u001b[0m\u001b[0mheight\u001b[0m\u001b[1;33m,\u001b[0m\u001b[1;33m\u001b[0m\u001b[1;33m\u001b[0m\u001b[0m\n\u001b[0;32m    108\u001b[0m             \u001b[0mscale\u001b[0m\u001b[1;33m=\u001b[0m\u001b[0mscale\u001b[0m\u001b[1;33m,\u001b[0m\u001b[1;33m\u001b[0m\u001b[1;33m\u001b[0m\u001b[0m\n\u001b[1;32m--> 109\u001b[1;33m             \u001b[0mvalidate\u001b[0m\u001b[1;33m=\u001b[0m\u001b[0mvalidate\u001b[0m\u001b[1;33m,\u001b[0m\u001b[1;33m\u001b[0m\u001b[1;33m\u001b[0m\u001b[0m\n\u001b[0m\u001b[0;32m    110\u001b[0m         )\n\u001b[0;32m    111\u001b[0m     \u001b[1;32melif\u001b[0m \u001b[0mengine\u001b[0m \u001b[1;33m!=\u001b[0m \u001b[1;34m\"kaleido\"\u001b[0m\u001b[1;33m:\u001b[0m\u001b[1;33m\u001b[0m\u001b[1;33m\u001b[0m\u001b[0m\n",
      "\u001b[1;32m~\\Anaconda3\\envs\\CondaPy37plots\\lib\\site-packages\\plotly\\io\\_orca.py\u001b[0m in \u001b[0;36mto_image\u001b[1;34m(fig, format, width, height, scale, validate)\u001b[0m\n\u001b[0;32m   1533\u001b[0m     \u001b[1;31m# Make sure orca sever is running\u001b[0m\u001b[1;33m\u001b[0m\u001b[1;33m\u001b[0m\u001b[1;33m\u001b[0m\u001b[0m\n\u001b[0;32m   1534\u001b[0m     \u001b[1;31m# -------------------------------\u001b[0m\u001b[1;33m\u001b[0m\u001b[1;33m\u001b[0m\u001b[1;33m\u001b[0m\u001b[0m\n\u001b[1;32m-> 1535\u001b[1;33m     \u001b[0mensure_server\u001b[0m\u001b[1;33m(\u001b[0m\u001b[1;33m)\u001b[0m\u001b[1;33m\u001b[0m\u001b[1;33m\u001b[0m\u001b[0m\n\u001b[0m\u001b[0;32m   1536\u001b[0m \u001b[1;33m\u001b[0m\u001b[0m\n\u001b[0;32m   1537\u001b[0m     \u001b[1;31m# Handle defaults\u001b[0m\u001b[1;33m\u001b[0m\u001b[1;33m\u001b[0m\u001b[1;33m\u001b[0m\u001b[0m\n",
      "\u001b[1;32m~\\Anaconda3\\envs\\CondaPy37plots\\lib\\site-packages\\plotly\\io\\_orca.py\u001b[0m in \u001b[0;36mensure_server\u001b[1;34m()\u001b[0m\n\u001b[0;32m   1388\u001b[0m         \u001b[1;31m# Validate orca executable only if server_url is not provided\u001b[0m\u001b[1;33m\u001b[0m\u001b[1;33m\u001b[0m\u001b[1;33m\u001b[0m\u001b[0m\n\u001b[0;32m   1389\u001b[0m         \u001b[1;32mif\u001b[0m \u001b[0mstatus\u001b[0m\u001b[1;33m.\u001b[0m\u001b[0mstate\u001b[0m \u001b[1;33m==\u001b[0m \u001b[1;34m\"unvalidated\"\u001b[0m\u001b[1;33m:\u001b[0m\u001b[1;33m\u001b[0m\u001b[1;33m\u001b[0m\u001b[0m\n\u001b[1;32m-> 1390\u001b[1;33m             \u001b[0mvalidate_executable\u001b[0m\u001b[1;33m(\u001b[0m\u001b[1;33m)\u001b[0m\u001b[1;33m\u001b[0m\u001b[1;33m\u001b[0m\u001b[0m\n\u001b[0m\u001b[0;32m   1391\u001b[0m         \u001b[1;31m# Acquire lock to make sure that we keep the properties of orca_state\u001b[0m\u001b[1;33m\u001b[0m\u001b[1;33m\u001b[0m\u001b[1;33m\u001b[0m\u001b[0m\n\u001b[0;32m   1392\u001b[0m         \u001b[1;31m# consistent across threads\u001b[0m\u001b[1;33m\u001b[0m\u001b[1;33m\u001b[0m\u001b[1;33m\u001b[0m\u001b[0m\n",
      "\u001b[1;32m~\\Anaconda3\\envs\\CondaPy37plots\\lib\\site-packages\\plotly\\io\\_orca.py\u001b[0m in \u001b[0;36mvalidate_executable\u001b[1;34m()\u001b[0m\n\u001b[0;32m   1085\u001b[0m                 \u001b[0mexecutable\u001b[0m\u001b[1;33m=\u001b[0m\u001b[0mconfig\u001b[0m\u001b[1;33m.\u001b[0m\u001b[0mexecutable\u001b[0m\u001b[1;33m,\u001b[0m\u001b[1;33m\u001b[0m\u001b[1;33m\u001b[0m\u001b[0m\n\u001b[0;32m   1086\u001b[0m                 \u001b[0mformatted_path\u001b[0m\u001b[1;33m=\u001b[0m\u001b[0mformatted_path\u001b[0m\u001b[1;33m,\u001b[0m\u001b[1;33m\u001b[0m\u001b[1;33m\u001b[0m\u001b[0m\n\u001b[1;32m-> 1087\u001b[1;33m                 \u001b[0minstructions\u001b[0m\u001b[1;33m=\u001b[0m\u001b[0minstall_location_instructions\u001b[0m\u001b[1;33m,\u001b[0m\u001b[1;33m\u001b[0m\u001b[1;33m\u001b[0m\u001b[0m\n\u001b[0m\u001b[0;32m   1088\u001b[0m             )\n\u001b[0;32m   1089\u001b[0m         )\n",
      "\u001b[1;31mValueError\u001b[0m: \nThe orca executable is required to export figures as static images,\nbut it could not be found on the system path.\n\nSearched for executable 'orca' on the following path:\n    C:\\Users\\Martin\\Anaconda3\\envs\\CondaPy37plots\n    C:\\Users\\Martin\\Anaconda3\\envs\\CondaPy37plots\\Library\\mingw-w64\\bin\n    C:\\Users\\Martin\\Anaconda3\\envs\\CondaPy37plots\\Library\\usr\\bin\n    C:\\Users\\Martin\\Anaconda3\\envs\\CondaPy37plots\\Library\\bin\n    C:\\Users\\Martin\\Anaconda3\\envs\\CondaPy37plots\\Scripts\n    C:\\Users\\Martin\\Anaconda3\\envs\\CondaPy37plots\\bin\n    C:\\Users\\Martin\\Anaconda3\\condabin\n    C:\\Users\\Martin\\Anaconda3\n    C:\\Users\\Martin\\Anaconda3\\Library\\mingw-w64\\bin\n    C:\\Users\\Martin\\Anaconda3\\Library\\usr\\bin\n    C:\\Users\\Martin\\Anaconda3\\Library\\bin\n    C:\\Users\\Martin\\Anaconda3\\Scripts\n    C:\\Program Files\\WindowsApps\\PythonSoftwareFoundation.Python.3.7_3.7.2544.0_x64__qbz5n2kfra8p0\n    C:\\Rtools\\bin\n    C:\\Program Files (x86)\\Common Files\\Oracle\\Java\\javapath\n    C:\\ProgramData\\Oracle\\Java\\javapath\n    C:\\watcom-1.3\\binnt\n    C:\\watcom-1.3\\binw\n    C:\\Program Files (x86)\\Intel\\iCLS Client\n    C:\\Program Files\\Intel\\iCLS Client\n    C:\\WINDOWS\\system32\n    C:\\WINDOWS\n    C:\\WINDOWS\\System32\\Wbem\n    C:\\WINDOWS\\System32\\WindowsPowerShell\\v1.0\n    C:\\Program Files\\Intel\\Intel(R) Management Engine Components\\DAL\n    C:\\Program Files\\Intel\\Intel(R) Management Engine Components\\IPT\n    C:\\Program Files (x86)\\Intel\\Intel(R) Management Engine Components\\DAL\n    C:\\Program Files (x86)\\Intel\\Intel(R) Management Engine Components\\IPT\n    C:\\Program Files\\MATLAB\\R2009b\\runtime\\win64\n    C:\\Program Files\\MATLAB\\R2009b\\bin\n    C:\\Program Files\\Microsoft SQL Server\\110\\Tools\\Binn\n    C:\\Program Files (x86)\\Microsoft SDKs\\TypeScript\\1.0\n    C:\\Program Files\\Microsoft SQL Server\\120\\Tools\\Binn\n    C:\\Program Files (x86)\\NVIDIA Corporation\\PhysX\\Common\n    C:\\WINDOWS\\system32\n    C:\\WINDOWS\n    C:\\WINDOWS\\System32\\Wbem\n    C:\\WINDOWS\\System32\\WindowsPowerShell\\v1.0\n    C:\\WINDOWS\\System32\\OpenSSH\n    C:\\Program Files\\PuTTY\n    C:\\Program Files\\MiKTeX 2.9\\miktex\\bin\\x64\n    C:\\Program Files\\TortoiseGit\\bin\n    C:\\Program Files\\JetBrains\\PyCharm Community Edition 2019.1.1\\bin\n    .\n    C:\\Program Files\\Microsoft VS Code\\bin\n    C:\\Users\\Martin\\AppData\\Local\\Microsoft\\WindowsApps\n    .\n    .\n\nIf you haven't installed orca yet, you can do so using conda as follows:\n\n    $ conda install -c plotly plotly-orca\n\nAlternatively, see other installation methods in the orca project README at\nhttps://github.com/plotly/orca\n\nAfter installation is complete, no further configuration should be needed.\n\nIf you have installed orca, then for some reason plotly.py was unable to\nlocate it. In this case, set the `plotly.io.orca.config.executable`\nproperty to the full path of your orca executable. For example:\n\n    >>> plotly.io.orca.config.executable = '/path/to/orca'\n\nAfter updating this executable property, try the export operation again.\nIf it is successful then you may want to save this configuration so that it\nwill be applied automatically in future sessions. You can do this as follows:\n\n    >>> plotly.io.orca.config.save()\n\nIf you're still having trouble, feel free to ask for help on the forums at\nhttps://community.plot.ly/c/api/python\n"
     ]
    }
   ],
   "source": [
    "# Save static\n",
    "# ToDo: Fix\n",
    "figure_handle.write_image('Plots/plotly.png')"
   ]
  }
 ],
 "metadata": {
  "kernelspec": {
   "display_name": "Python 3",
   "language": "python",
   "name": "python3"
  },
  "language_info": {
   "codemirror_mode": {
    "name": "ipython",
    "version": 3
   },
   "file_extension": ".py",
   "mimetype": "text/x-python",
   "name": "python",
   "nbconvert_exporter": "python",
   "pygments_lexer": "ipython3",
   "version": "3.7.9"
  }
 },
 "nbformat": 4,
 "nbformat_minor": 4
}
