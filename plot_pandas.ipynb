{
 "cells": [
  {
   "cell_type": "markdown",
   "metadata": {},
   "source": [
    "# Pandas\n",
    "\n",
    "Examples: https://pandas.pydata.org/pandas-docs/stable/user_guide/visualization.html\n",
    "\n",
    "CheatSheet: https://pandas.pydata.org/Pandas_Cheat_Sheet.pdf (general)"
   ]
  },
  {
   "cell_type": "code",
   "execution_count": 1,
   "metadata": {},
   "outputs": [],
   "source": [
    "# Imports\n",
    "from example_data import sample_frame\n",
    "import pandas as pd\n",
    "\n",
    "import matplotlib.pyplot as plt  # for layout"
   ]
  },
  {
   "cell_type": "code",
   "execution_count": 2,
   "metadata": {},
   "outputs": [],
   "source": [
    "# Preparation"
   ]
  },
  {
   "cell_type": "code",
   "execution_count": null,
   "metadata": {},
   "outputs": [],
   "source": [
    "# Create Plots\n",
    "axis_handle = sample_frame.plot.scatter(x='x', y='a', color='blue', label='a')\n",
    "sample_frame.plot.scatter(x='x', y='b', color='red', label='b', ax=axis_handle)\n",
    "sample_frame.plot.scatter(x='x', y='c', color='orange', label='c', ax=axis_handle)\n",
    "# 1to1 line not possible: Can not be used with 'x' and 'x'"
   ]
  },
  {
   "cell_type": "code",
   "execution_count": null,
   "metadata": {},
   "outputs": [],
   "source": [
    "# Create Combination and Visualize\n",
    "axis_handle.set_title(\"Demo Plot\")\n",
    "axis_handle.set_xlabel(\"X Axis\")\n",
    "axis_handle.set_ylabel(\"Y Axis\")\n",
    "figure_handle = axis_handle.get_figure()\n",
    "figure_handle"
   ]
  },
  {
   "cell_type": "code",
   "execution_count": null,
   "metadata": {},
   "outputs": [],
   "source": [
    "# Create Layout (with Matplotlib)\n",
    "figure_handle2, (ax1, ax2) = plt.subplots(1, 2)\n",
    "sample_frame.plot.scatter(x='x', y='a', ax=ax1)\n",
    "sample_frame.plot(title='Demo Plot', ax=ax2)"
   ]
  },
  {
   "cell_type": "code",
   "execution_count": 6,
   "metadata": {},
   "outputs": [],
   "source": [
    "# Save interactive"
   ]
  },
  {
   "cell_type": "code",
   "execution_count": 7,
   "metadata": {},
   "outputs": [],
   "source": [
    "# Save static\n",
    "figure_handle.savefig('Plots/pandas.png')"
   ]
  }
 ],
 "metadata": {
  "kernelspec": {
   "display_name": "Python 3",
   "language": "python",
   "name": "python3"
  },
  "language_info": {
   "codemirror_mode": {
    "name": "ipython",
    "version": 3
   },
   "file_extension": ".py",
   "mimetype": "text/x-python",
   "name": "python",
   "nbconvert_exporter": "python",
   "pygments_lexer": "ipython3",
   "version": "3.7.8"
  }
 },
 "nbformat": 4,
 "nbformat_minor": 4
}
