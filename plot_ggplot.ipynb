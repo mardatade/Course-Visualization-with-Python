{
 "cells": [
  {
   "cell_type": "markdown",
   "metadata": {},
   "source": [
    "# ggplot\n",
    "\n",
    "Examples: <http://r-statistics.co/Top50-Ggplot2-Visualizations-MasterList-R-Code.html>  \n",
    "Examples: <https://www.r-graph-gallery.com/ggplot2-package.html>"
   ]
  },
  {
   "cell_type": "code",
   "execution_count": 1,
   "metadata": {},
   "outputs": [],
   "source": [
    "# Imports\n",
    "from example_data import sample_frame\n",
    "\n",
    "from plotnine import ggplot, aes, geom_line, geom_point, labs, ggsave"
   ]
  },
  {
   "cell_type": "code",
   "execution_count": 2,
   "metadata": {},
   "outputs": [],
   "source": [
    "# Preparation\n",
    "figure_initiation = ggplot(sample_frame)\n",
    "figure_annotation = labs(title='Demo Plot', x='X Axis', y='Y Axis')"
   ]
  },
  {
   "cell_type": "code",
   "execution_count": 3,
   "metadata": {},
   "outputs": [],
   "source": [
    "# Create Plots\n",
    "# todo: colors\n",
    "scatter_a = geom_point(aes(x='x', y='a'), colour=\"blue\")\n",
    "scatter_b = geom_point(aes(x='x', y='b'), colour=\"red\")\n",
    "scatter_c = geom_point(aes(x='x', y='c'), colour=\"orange\")\n",
    "line_1to1 = geom_line(aes(x='x', y='x'), colour=\"black\")"
   ]
  },
  {
   "cell_type": "code",
   "execution_count": null,
   "metadata": {},
   "outputs": [],
   "source": [
    "# Create Combination and Visualize\n",
    "#  The usuall style would be to do it directly.\n",
    "figure_handle = (figure_initiation\n",
    "+ figure_annotation\n",
    "+ scatter_a\n",
    "+ scatter_b\n",
    "+ scatter_c\n",
    "+ line_1to1)\n",
    "figure_handle"
   ]
  },
  {
   "cell_type": "code",
   "execution_count": null,
   "metadata": {},
   "outputs": [],
   "source": [
    "# Create Layout (not yet)\n",
    "figure_handle2 = ggplot(sample_frame, aes(x='a', y='b', color='c')) + geom_point()\n",
    "figure_handle2\n",
    "# layout_handle = grid.arrange(figure_handle, figure_handle2, nrow = 1)\n",
    "# layout_handle"
   ]
  },
  {
   "cell_type": "code",
   "execution_count": 6,
   "metadata": {},
   "outputs": [],
   "source": [
    "# Save interactive\n"
   ]
  },
  {
   "cell_type": "code",
   "execution_count": 7,
   "metadata": {},
   "outputs": [
    {
     "name": "stderr",
     "output_type": "stream",
     "text": [
      "C:\\Users\\Martin\\Anaconda3\\envs\\CondaPy37plots\\lib\\site-packages\\plotnine\\ggplot.py:729: PlotnineWarning: Saving 6.4 x 4.8 in image.\n",
      "C:\\Users\\Martin\\Anaconda3\\envs\\CondaPy37plots\\lib\\site-packages\\plotnine\\ggplot.py:730: PlotnineWarning: Filename: Plots/ggplot.png\n"
     ]
    }
   ],
   "source": [
    "# Save static\n",
    "ggsave(figure_handle, 'Plots/ggplot.png')"
   ]
  }
 ],
 "metadata": {
  "kernelspec": {
   "display_name": "Python 3",
   "language": "python",
   "name": "python3"
  },
  "language_info": {
   "codemirror_mode": {
    "name": "ipython",
    "version": 3
   },
   "file_extension": ".py",
   "mimetype": "text/x-python",
   "name": "python",
   "nbconvert_exporter": "python",
   "pygments_lexer": "ipython3",
   "version": "3.7.9"
  }
 },
 "nbformat": 4,
 "nbformat_minor": 4
}
