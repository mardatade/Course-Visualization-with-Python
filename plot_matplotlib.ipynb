{
 "cells": [
  {
   "cell_type": "markdown",
   "metadata": {},
   "source": [
    "# Matplotlib\n",
    "\n",
    "Examples: https://matplotlib.org/gallery/index.html\n",
    "\n",
    "Cheatsheet: https://matplotlib.org/3.1.1/gallery/showcase/anatomy.html (Naming of elements)"
   ]
  },
  {
   "cell_type": "code",
   "execution_count": 1,
   "metadata": {},
   "outputs": [],
   "source": [
    "# Imports\n",
    "from example_data import x_values, sample_a, sample_b, sample_c\n",
    "import pandas as pd\n",
    "\n",
    "import matplotlib.pyplot as plt"
   ]
  },
  {
   "cell_type": "code",
   "execution_count": null,
   "metadata": {},
   "outputs": [],
   "source": [
    "# Preparation\n",
    "figure_handle, axis_handle = plt.subplots()\n",
    "axis_handle.set_xlabel('X Axis')\n",
    "axis_handle.set_ylabel('Y Axis')\n",
    "axis_handle.set_title('Demo Plot')"
   ]
  },
  {
   "cell_type": "code",
   "execution_count": 3,
   "metadata": {},
   "outputs": [
    {
     "data": {
      "text/plain": [
       "[<matplotlib.lines.Line2D at 0x17c02ff1608>]"
      ]
     },
     "execution_count": 3,
     "metadata": {},
     "output_type": "execute_result"
    }
   ],
   "source": [
    "# Create Plots\n",
    "# todo: color, label\n",
    "axis_handle.scatter(x_values, sample_a, color='b', label='a')\n",
    "axis_handle.scatter(x_values, sample_b, color='r', label='b')\n",
    "axis_handle.scatter(x_values, sample_c, color='y', label='c')\n",
    "axis_handle.plot([0, 100], [0, 100], label='1to1')"
   ]
  },
  {
   "cell_type": "code",
   "execution_count": null,
   "metadata": {},
   "outputs": [],
   "source": [
    "# Visualize\n",
    "axis_handle.legend()\n",
    "figure_handle"
   ]
  },
  {
   "cell_type": "code",
   "execution_count": null,
   "metadata": {},
   "outputs": [],
   "source": [
    "# Create Layout\n",
    "figure_handle2, (ax1, ax2) = plt.subplots(1, 2)\n",
    "ax1.scatter(x_values, sample_a)  # no idea how to copy an axis\n",
    "ax2.scatter(sample_a, sample_b, c=sample_c)"
   ]
  },
  {
   "cell_type": "code",
   "execution_count": 6,
   "metadata": {},
   "outputs": [],
   "source": [
    "# Save interactive\n"
   ]
  },
  {
   "cell_type": "code",
   "execution_count": 7,
   "metadata": {},
   "outputs": [],
   "source": [
    "# Save static\n",
    "figure_handle.savefig('Plots/matplotlib.png')"
   ]
  }
 ],
 "metadata": {
  "kernelspec": {
   "display_name": "Python 3",
   "language": "python",
   "name": "python3"
  },
  "language_info": {
   "codemirror_mode": {
    "name": "ipython",
    "version": 3
   },
   "file_extension": ".py",
   "mimetype": "text/x-python",
   "name": "python",
   "nbconvert_exporter": "python",
   "pygments_lexer": "ipython3",
   "version": "3.7.9"
  }
 },
 "nbformat": 4,
 "nbformat_minor": 4
}
