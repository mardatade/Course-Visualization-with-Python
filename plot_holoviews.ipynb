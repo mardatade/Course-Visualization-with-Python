{
 "cells": [
  {
   "cell_type": "code",
   "execution_count": 1,
   "metadata": {},
   "outputs": [
    {
     "ename": "ModuleNotFoundError",
     "evalue": "No module named 'holoviews'",
     "output_type": "error",
     "traceback": [
      "\u001b[0;31m---------------------------------------------------------------------------\u001b[0m",
      "\u001b[0;31mModuleNotFoundError\u001b[0m                       Traceback (most recent call last)",
      "\u001b[0;32m<ipython-input-1-03c49317117b>\u001b[0m in \u001b[0;36m<module>\u001b[0;34m\u001b[0m\n\u001b[1;32m      2\u001b[0m \u001b[0;32mfrom\u001b[0m \u001b[0mpython_plots\u001b[0m\u001b[0;34m.\u001b[0m\u001b[0mexample_data\u001b[0m \u001b[0;32mimport\u001b[0m \u001b[0mx_values\u001b[0m\u001b[0;34m,\u001b[0m \u001b[0msample_a\u001b[0m\u001b[0;34m,\u001b[0m \u001b[0msample_b\u001b[0m\u001b[0;34m,\u001b[0m \u001b[0msample_c\u001b[0m\u001b[0;34m\u001b[0m\u001b[0;34m\u001b[0m\u001b[0m\n\u001b[1;32m      3\u001b[0m \u001b[0;34m\u001b[0m\u001b[0m\n\u001b[0;32m----> 4\u001b[0;31m \u001b[0;32mimport\u001b[0m \u001b[0mholoviews\u001b[0m \u001b[0;32mas\u001b[0m \u001b[0mhv\u001b[0m\u001b[0;34m\u001b[0m\u001b[0;34m\u001b[0m\u001b[0m\n\u001b[0m\u001b[1;32m      5\u001b[0m \u001b[0;34m\u001b[0m\u001b[0m\n\u001b[1;32m      6\u001b[0m \u001b[0mbackend\u001b[0m\u001b[0;34m=\u001b[0m\u001b[0;34m'bokeh'\u001b[0m \u001b[0;31m# use renderer of bokeh, plotly, matplotlib\u001b[0m\u001b[0;34m\u001b[0m\u001b[0;34m\u001b[0m\u001b[0m\n",
      "\u001b[0;31mModuleNotFoundError\u001b[0m: No module named 'holoviews'"
     ]
    }
   ],
   "source": [
    "# Imports\n",
    "from python_plots.example_data import x_values, sample_a, sample_b, sample_c\n",
    "\n",
    "import holoviews as hv\n",
    "\n",
    "backend='bokeh' # use renderer of bokeh, plotly, matplotlib"
   ]
  },
  {
   "cell_type": "code",
   "execution_count": null,
   "metadata": {},
   "outputs": [],
   "source": [
    "# Preparation"
   ]
  },
  {
   "cell_type": "code",
   "execution_count": null,
   "metadata": {},
   "outputs": [],
   "source": [
    "# Create Plots\n",
    "# todo: color, label\n",
    "scatter_a = hv.Scatter(list(zip(x_values, sample_a)))\n",
    "scatter_b = hv.Scatter(list(zip(x_values, sample_b)))\n",
    "scatter_c = hv.Scatter(list(zip(x_values, sample_c)))\n",
    "line_1to1 = hv.Curve([(0, 0), (100, 100)])"
   ]
  },
  {
   "cell_type": "code",
   "execution_count": null,
   "metadata": {},
   "outputs": [],
   "source": [
    "# Create Combination and Visualize\n",
    "figure_handle = scatter_a + scatter_b + scatter_c + line_1to1\n",
    "figure_handle.opts(title='Demo Plot', xlabel='X Axis', ylabel='Y Axis')"
   ]
  },
  {
   "cell_type": "code",
   "execution_count": null,
   "metadata": {},
   "outputs": [],
   "source": [
    "# Save\n",
    "hv.save(figure_handle, filename='Plots/holoviews.png', backend=self.backend)  # static\n",
    "hv.save(figure_handle, filename='Plots/holoviews.html', backend=self.backend)  # interactive"
   ]
  }
 ],
 "metadata": {
  "kernelspec": {
   "display_name": "Python 3",
   "language": "python",
   "name": "python3"
  },
  "language_info": {
   "codemirror_mode": {
    "name": "ipython",
    "version": 3
   },
   "file_extension": ".py",
   "mimetype": "text/x-python",
   "name": "python",
   "nbconvert_exporter": "python",
   "pygments_lexer": "ipython3",
   "version": "3.6.9"
  }
 },
 "nbformat": 4,
 "nbformat_minor": 2
}
