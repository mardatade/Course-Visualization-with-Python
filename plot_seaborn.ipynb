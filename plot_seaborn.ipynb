{
 "cells": [
  {
   "cell_type": "markdown",
   "metadata": {},
   "source": [
    "# Seaborn\n",
    "\n",
    "Examples: https://seaborn.pydata.org/examples/index.html\n",
    "\n",
    "CheatSheet: https://python-graph-gallery.com/wp-content/uploads/Seaborn_Cheatsheet_Datacamp.png"
   ]
  },
  {
   "cell_type": "code",
   "execution_count": 1,
   "metadata": {},
   "outputs": [],
   "source": [
    "# Imports\n",
    "from example_data import sample_frame\n",
    "import pandas as pd\n",
    "\n",
    "import seaborn as sns\n",
    "import matplotlib.pyplot as plt"
   ]
  },
  {
   "cell_type": "code",
   "execution_count": 2,
   "metadata": {},
   "outputs": [],
   "source": [
    "# Preparation"
   ]
  },
  {
   "cell_type": "code",
   "execution_count": null,
   "metadata": {},
   "outputs": [],
   "source": [
    "# Create Plots\n",
    "# todo: label\n",
    "scatter_a = sns.scatterplot(x='x', y='a', data=sample_frame, color='blue')\n",
    "scatter_b = sns.scatterplot(x='x', y='b', data=sample_frame, color='red')\n",
    "scatter_c = sns.scatterplot(x='x', y='c', data=sample_frame, color='orange')\n",
    "line_1to1 = sns.lineplot(x='x', y='x', data=pd.DataFrame({'x': [0, 100]}))"
   ]
  },
  {
   "cell_type": "code",
   "execution_count": 4,
   "metadata": {},
   "outputs": [],
   "source": [
    "# Annotate and Visualize\n",
    "# todo: make visibel!?\n",
    "line_1to1.set(title='Demo Plot', xlabel='X Axis', ylabel='Y Axis')\n",
    "plt.show()"
   ]
  },
  {
   "cell_type": "code",
   "execution_count": null,
   "metadata": {},
   "outputs": [],
   "source": [
    "# Create Layout (with Matplotlib)\n",
    "figure_handle2, (ax1, ax2) = plt.subplots(1, 2)\n",
    "sns.scatterplot(x='x', y='a', data=sample_frame, ax=ax1)\n",
    "sns.scatterplot(x='a', y='b', hue='c', data=sample_frame, ax=ax2)"
   ]
  },
  {
   "cell_type": "code",
   "execution_count": 6,
   "metadata": {},
   "outputs": [],
   "source": [
    "# Save interactive"
   ]
  },
  {
   "cell_type": "code",
   "execution_count": 7,
   "metadata": {},
   "outputs": [],
   "source": [
    "# Save static\n",
    "figure_handle = line_1to1.get_figure()\n",
    "figure_handle.savefig('Plots/seaborn.png')"
   ]
  }
 ],
 "metadata": {
  "kernelspec": {
   "display_name": "Python 3",
   "language": "python",
   "name": "python3"
  },
  "language_info": {
   "codemirror_mode": {
    "name": "ipython",
    "version": 3
   },
   "file_extension": ".py",
   "mimetype": "text/x-python",
   "name": "python",
   "nbconvert_exporter": "python",
   "pygments_lexer": "ipython3",
   "version": "3.7.8"
  }
 },
 "nbformat": 4,
 "nbformat_minor": 4
}
